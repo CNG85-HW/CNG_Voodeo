{
  "cells": [
    {
      "cell_type": "markdown",
      "metadata": {
        "id": "view-in-github",
        "colab_type": "text"
      },
      "source": [
        "<a href=\"https://colab.research.google.com/github/CNG85-HW/CNG_Voodeo/blob/main/CNG_Voodeo.ipynb\" target=\"_parent\"><img src=\"https://colab.research.google.com/assets/colab-badge.svg\" alt=\"Open In Colab\"/></a>"
      ]
    },
    {
      "cell_type": "code",
      "source": [
        "import os\n",
        "\n",
        "def main():\n",
        "    print(\"Upload your reference images and video.\")\n",
        "    reference_images, video_path = upload_files()\n",
        "\n",
        "    # Define model path\n",
        "    model_path = \"/content/drive/MyDrive/Colab Notebooks/models/ssd_mobilenet_v2_coco_2018_03_29/saved_model\"\n",
        "\n",
        "    # Verify model path\n",
        "    if not os.path.exists(model_path):\n",
        "        raise FileNotFoundError(f\"Model not found at {model_path}. Verify the extraction step and path.\")\n",
        "\n",
        "    print(\"Loading model...\")\n",
        "    global model\n",
        "    model = tf.saved_model.load(model_path)\n",
        "\n",
        "    # Process reference images\n",
        "    reference_tensors, reference_labels = preprocess_images(reference_images)\n",
        "\n",
        "    # Detect objects in video\n",
        "    detect_objects_in_video(video_path, reference_tensors, reference_labels)\n",
        "\n"
      ],
      "metadata": {
        "id": "i-IUVUPAjqrt"
      },
      "execution_count": 3,
      "outputs": []
    },
    {
      "cell_type": "code",
      "source": [
        "from google.colab import files\n",
        "import cv2\n",
        "import numpy as np\n",
        "import tensorflow as tf\n",
        "from PIL import Image\n",
        "from google.colab.patches import cv2_imshow\n",
        "\n",
        "# Function to upload multiple images and one video\n",
        "def upload_files():\n",
        "    uploaded = files.upload()  # Drag and drop files here\n",
        "    reference_images = {}\n",
        "    video_path = None\n",
        "\n",
        "    for file_name in uploaded.keys():\n",
        "        if file_name.lower().endswith(('.jpg', '.png', '.jpeg')):\n",
        "            object_name = file_name.rsplit('.', 1)[0]  # Use file name (without extension) as the label\n",
        "            reference_images[object_name] = file_name\n",
        "        elif file_name.lower().endswith(('.mp4', '.avi')):\n",
        "            video_path = file_name\n",
        "\n",
        "    if not reference_images or not video_path:\n",
        "        raise ValueError(\"Please upload at least one reference image and one video file.\")\n",
        "    return reference_images, video_path\n",
        "\n",
        "# Function to preprocess reference images\n",
        "def preprocess_images(image_paths):\n",
        "    processed_images = {}\n",
        "    for label, path in image_paths.items():\n",
        "        image = Image.open(path)\n",
        "        image_np = np.array(image)\n",
        "        input_tensor = tf.convert_to_tensor(image_np)\n",
        "        processed_images[label] = input_tensor[tf.newaxis, ...]\n",
        "    return processed_images\n",
        "\n",
        "# Function to detect objects in the video\n",
        "def detect_objects_in_video(video_path, reference_images):\n",
        "    # Preprocess all reference images\n",
        "    processed_images = preprocess_images(reference_images)\n",
        "\n",
        "    # Open the video file\n",
        "    cap = cv2.VideoCapture(video_path)\n",
        "\n",
        "    frame_number = 0\n",
        "    detection_results = {label: [] for label in processed_images.keys()}\n",
        "\n",
        "    while cap.isOpened():\n",
        "        ret, frame = cap.read()\n",
        "        if not ret:\n",
        "            break\n",
        "\n",
        "        # Prepare frame for model inference\n",
        "        input_tensor = tf.convert_to_tensor(frame)\n",
        "        input_tensor = input_tensor[tf.newaxis, ...]\n",
        "\n",
        "        # Run object detection\n",
        "        detections = model.signatures['serving_default'](input_tensor)\n",
        "\n",
        "        # Extract detection results\n",
        "        detection_scores = detections['detection_scores'].numpy()\n",
        "        detection_boxes = detections['detection_boxes'].numpy()\n",
        "        detection_classes = detections['detection_classes'].numpy()\n",
        "\n",
        "        # Check each reference image for matches\n",
        "        for label, reference_tensor in processed_images.items():\n",
        "            if detection_scores[0][0] > 0.85:  # Adjust confidence threshold as needed\n",
        "                print(f\"Object '{label}' detected in frame {frame_number} with confidence {detection_scores[0][0]:.2f}\")\n",
        "                detection_results[label].append(frame_number)\n",
        "                cv2_imshow(frame)\n",
        "\n",
        "        frame_number += 1\n",
        "\n",
        "    cap.release()\n",
        "\n",
        "    # Print summary of detections\n",
        "    for label, frames in detection_results.items():\n",
        "        print(f\"\\nObject '{label}' detected in {len(frames)} frame(s): {frames}\")\n",
        "\n",
        "# Main function to run the script\n",
        "def main():\n",
        "    print(\"Upload your reference images and video.\")\n",
        "    reference_images, video_path = upload_files()\n",
        "\n",
        "    # Load TensorFlow model\n",
        "    model_path = \"/content/ssd_mobilenet_v2_coco_2018_03_29/saved_model\"\n",
        "    print(\"Loading model...\")\n",
        "    global model\n",
        "    model = tf.saved_model.load(model_path)\n",
        "\n",
        "    # Detect objects in the video\n",
        "    detect_objects_in_video(video_path, reference_images)\n",
        "\n",
        "# Run the main function\n",
        "if __name__ == \"__main__\":\n",
        "    main()\n"
      ],
      "metadata": {
        "id": "8QEXgzgvj6K7"
      },
      "execution_count": null,
      "outputs": []
    },
    {
      "cell_type": "code",
      "source": [
        "pip install ipykernel"
      ],
      "metadata": {
        "colab": {
          "base_uri": "https://localhost:8080/"
        },
        "id": "Jju7nLuRoJ1C",
        "outputId": "37ee9b94-5362-42cc-a8f9-3c447f092897"
      },
      "execution_count": 1,
      "outputs": [
        {
          "output_type": "stream",
          "name": "stdout",
          "text": [
            "Requirement already satisfied: ipykernel in /usr/local/lib/python3.10/dist-packages (5.5.6)\n",
            "Requirement already satisfied: ipython-genutils in /usr/local/lib/python3.10/dist-packages (from ipykernel) (0.2.0)\n",
            "Requirement already satisfied: ipython>=5.0.0 in /usr/local/lib/python3.10/dist-packages (from ipykernel) (7.34.0)\n",
            "Requirement already satisfied: traitlets>=4.1.0 in /usr/local/lib/python3.10/dist-packages (from ipykernel) (5.7.1)\n",
            "Requirement already satisfied: jupyter-client in /usr/local/lib/python3.10/dist-packages (from ipykernel) (6.1.12)\n",
            "Requirement already satisfied: tornado>=4.2 in /usr/local/lib/python3.10/dist-packages (from ipykernel) (6.3.3)\n",
            "Requirement already satisfied: setuptools>=18.5 in /usr/local/lib/python3.10/dist-packages (from ipython>=5.0.0->ipykernel) (75.1.0)\n",
            "Collecting jedi>=0.16 (from ipython>=5.0.0->ipykernel)\n",
            "  Downloading jedi-0.19.2-py2.py3-none-any.whl.metadata (22 kB)\n",
            "Requirement already satisfied: decorator in /usr/local/lib/python3.10/dist-packages (from ipython>=5.0.0->ipykernel) (4.4.2)\n",
            "Requirement already satisfied: pickleshare in /usr/local/lib/python3.10/dist-packages (from ipython>=5.0.0->ipykernel) (0.7.5)\n",
            "Requirement already satisfied: prompt-toolkit!=3.0.0,!=3.0.1,<3.1.0,>=2.0.0 in /usr/local/lib/python3.10/dist-packages (from ipython>=5.0.0->ipykernel) (3.0.48)\n",
            "Requirement already satisfied: pygments in /usr/local/lib/python3.10/dist-packages (from ipython>=5.0.0->ipykernel) (2.18.0)\n",
            "Requirement already satisfied: backcall in /usr/local/lib/python3.10/dist-packages (from ipython>=5.0.0->ipykernel) (0.2.0)\n",
            "Requirement already satisfied: matplotlib-inline in /usr/local/lib/python3.10/dist-packages (from ipython>=5.0.0->ipykernel) (0.1.7)\n",
            "Requirement already satisfied: pexpect>4.3 in /usr/local/lib/python3.10/dist-packages (from ipython>=5.0.0->ipykernel) (4.9.0)\n",
            "Requirement already satisfied: jupyter-core>=4.6.0 in /usr/local/lib/python3.10/dist-packages (from jupyter-client->ipykernel) (5.7.2)\n",
            "Requirement already satisfied: pyzmq>=13 in /usr/local/lib/python3.10/dist-packages (from jupyter-client->ipykernel) (24.0.1)\n",
            "Requirement already satisfied: python-dateutil>=2.1 in /usr/local/lib/python3.10/dist-packages (from jupyter-client->ipykernel) (2.8.2)\n",
            "Requirement already satisfied: parso<0.9.0,>=0.8.4 in /usr/local/lib/python3.10/dist-packages (from jedi>=0.16->ipython>=5.0.0->ipykernel) (0.8.4)\n",
            "Requirement already satisfied: platformdirs>=2.5 in /usr/local/lib/python3.10/dist-packages (from jupyter-core>=4.6.0->jupyter-client->ipykernel) (4.3.6)\n",
            "Requirement already satisfied: ptyprocess>=0.5 in /usr/local/lib/python3.10/dist-packages (from pexpect>4.3->ipython>=5.0.0->ipykernel) (0.7.0)\n",
            "Requirement already satisfied: wcwidth in /usr/local/lib/python3.10/dist-packages (from prompt-toolkit!=3.0.0,!=3.0.1,<3.1.0,>=2.0.0->ipython>=5.0.0->ipykernel) (0.2.13)\n",
            "Requirement already satisfied: six>=1.5 in /usr/local/lib/python3.10/dist-packages (from python-dateutil>=2.1->jupyter-client->ipykernel) (1.17.0)\n",
            "Downloading jedi-0.19.2-py2.py3-none-any.whl (1.6 MB)\n",
            "\u001b[2K   \u001b[90m━━━━━━━━━━━━━━━━━━━━━━━━━━━━━━━━━━━━━━━━\u001b[0m \u001b[32m1.6/1.6 MB\u001b[0m \u001b[31m18.5 MB/s\u001b[0m eta \u001b[36m0:00:00\u001b[0m\n",
            "\u001b[?25hInstalling collected packages: jedi\n",
            "Successfully installed jedi-0.19.2\n"
          ]
        }
      ]
    }
  ],
  "metadata": {
    "colab": {
      "provenance": [],
      "mount_file_id": "1xcFQZ1uzY4B3ydNuXc7uCn97g3yqUGml",
      "authorship_tag": "ABX9TyNbheFuqGGlbA3JaLznhDXN",
      "include_colab_link": true
    },
    "kernelspec": {
      "display_name": "Python 3",
      "name": "python3"
    },
    "language_info": {
      "name": "python"
    }
  },
  "nbformat": 4,
  "nbformat_minor": 0
}